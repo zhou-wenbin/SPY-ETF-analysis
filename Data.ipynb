{
 "cells": [
  {
   "cell_type": "code",
   "execution_count": 11,
   "id": "aboriginal-fishing",
   "metadata": {},
   "outputs": [],
   "source": [
    "import numpy as np\n",
    "import pandas as pd\n",
    "\n",
    "%matplotlib inline"
   ]
  },
  {
   "cell_type": "code",
   "execution_count": 14,
   "id": "affecting-patrick",
   "metadata": {},
   "outputs": [],
   "source": [
    "df=pd.read_csv(\"/home/zhou/SPY-ETF-analysis/SPY .csv\") "
   ]
  },
  {
   "cell_type": "code",
   "execution_count": 44,
   "id": "liked-requirement",
   "metadata": {},
   "outputs": [],
   "source": [
    "df_analysis=df[[\"Date\",\"Close\",\"Volume\"]]"
   ]
  },
  {
   "cell_type": "code",
   "execution_count": 43,
   "id": "fallen-following",
   "metadata": {},
   "outputs": [],
   "source": [
    "daily_return = df_analysis[\"Close\"].pct_change(1) # 1 for ONE DAY lookback"
   ]
  },
  {
   "cell_type": "code",
   "execution_count": 45,
   "id": "dominican-indonesian",
   "metadata": {},
   "outputs": [],
   "source": [
    "df_analysis.insert(2, \"Return\", daily_return, False)\n"
   ]
  },
  {
   "cell_type": "code",
   "execution_count": 52,
   "id": "phantom-glossary",
   "metadata": {},
   "outputs": [],
   "source": [
    "df_analysis=df_analysis.dropna()"
   ]
  },
  {
   "cell_type": "code",
   "execution_count": 58,
   "id": "demographic-receptor",
   "metadata": {},
   "outputs": [
    {
     "data": {
      "text/html": [
       "<div>\n",
       "<style scoped>\n",
       "    .dataframe tbody tr th:only-of-type {\n",
       "        vertical-align: middle;\n",
       "    }\n",
       "\n",
       "    .dataframe tbody tr th {\n",
       "        vertical-align: top;\n",
       "    }\n",
       "\n",
       "    .dataframe thead th {\n",
       "        text-align: right;\n",
       "    }\n",
       "</style>\n",
       "<table border=\"1\" class=\"dataframe\">\n",
       "  <thead>\n",
       "    <tr style=\"text-align: right;\">\n",
       "      <th></th>\n",
       "      <th>Date</th>\n",
       "      <th>Close</th>\n",
       "      <th>Return</th>\n",
       "      <th>Volume</th>\n",
       "    </tr>\n",
       "  </thead>\n",
       "  <tbody>\n",
       "    <tr>\n",
       "      <th>1</th>\n",
       "      <td>1993-02-01</td>\n",
       "      <td>44.250000</td>\n",
       "      <td>0.007112</td>\n",
       "      <td>480500</td>\n",
       "    </tr>\n",
       "    <tr>\n",
       "      <th>2</th>\n",
       "      <td>1993-02-02</td>\n",
       "      <td>44.343750</td>\n",
       "      <td>0.002119</td>\n",
       "      <td>201300</td>\n",
       "    </tr>\n",
       "    <tr>\n",
       "      <th>3</th>\n",
       "      <td>1993-02-03</td>\n",
       "      <td>44.812500</td>\n",
       "      <td>0.010571</td>\n",
       "      <td>529400</td>\n",
       "    </tr>\n",
       "    <tr>\n",
       "      <th>4</th>\n",
       "      <td>1993-02-04</td>\n",
       "      <td>45.000000</td>\n",
       "      <td>0.004184</td>\n",
       "      <td>531500</td>\n",
       "    </tr>\n",
       "    <tr>\n",
       "      <th>5</th>\n",
       "      <td>1993-02-05</td>\n",
       "      <td>44.968750</td>\n",
       "      <td>-0.000694</td>\n",
       "      <td>492100</td>\n",
       "    </tr>\n",
       "    <tr>\n",
       "      <th>...</th>\n",
       "      <td>...</td>\n",
       "      <td>...</td>\n",
       "      <td>...</td>\n",
       "      <td>...</td>\n",
       "    </tr>\n",
       "    <tr>\n",
       "      <th>7043</th>\n",
       "      <td>2021-01-19</td>\n",
       "      <td>378.649994</td>\n",
       "      <td>0.007852</td>\n",
       "      <td>51233300</td>\n",
       "    </tr>\n",
       "    <tr>\n",
       "      <th>7044</th>\n",
       "      <td>2021-01-20</td>\n",
       "      <td>383.890015</td>\n",
       "      <td>0.013839</td>\n",
       "      <td>61836100</td>\n",
       "    </tr>\n",
       "    <tr>\n",
       "      <th>7045</th>\n",
       "      <td>2021-01-21</td>\n",
       "      <td>384.239990</td>\n",
       "      <td>0.000912</td>\n",
       "      <td>47955800</td>\n",
       "    </tr>\n",
       "    <tr>\n",
       "      <th>7046</th>\n",
       "      <td>2021-01-22</td>\n",
       "      <td>382.880005</td>\n",
       "      <td>-0.003539</td>\n",
       "      <td>52860500</td>\n",
       "    </tr>\n",
       "    <tr>\n",
       "      <th>7047</th>\n",
       "      <td>2021-01-25</td>\n",
       "      <td>384.390015</td>\n",
       "      <td>0.003944</td>\n",
       "      <td>70226100</td>\n",
       "    </tr>\n",
       "  </tbody>\n",
       "</table>\n",
       "<p>7047 rows × 4 columns</p>\n",
       "</div>"
      ],
      "text/plain": [
       "            Date       Close    Return    Volume\n",
       "1     1993-02-01   44.250000  0.007112    480500\n",
       "2     1993-02-02   44.343750  0.002119    201300\n",
       "3     1993-02-03   44.812500  0.010571    529400\n",
       "4     1993-02-04   45.000000  0.004184    531500\n",
       "5     1993-02-05   44.968750 -0.000694    492100\n",
       "...          ...         ...       ...       ...\n",
       "7043  2021-01-19  378.649994  0.007852  51233300\n",
       "7044  2021-01-20  383.890015  0.013839  61836100\n",
       "7045  2021-01-21  384.239990  0.000912  47955800\n",
       "7046  2021-01-22  382.880005 -0.003539  52860500\n",
       "7047  2021-01-25  384.390015  0.003944  70226100\n",
       "\n",
       "[7047 rows x 4 columns]"
      ]
     },
     "execution_count": 58,
     "metadata": {},
     "output_type": "execute_result"
    }
   ],
   "source": [
    "df_analysis"
   ]
  },
  {
   "cell_type": "code",
   "execution_count": 55,
   "id": "metropolitan-seeking",
   "metadata": {},
   "outputs": [
    {
     "data": {
      "text/plain": [
       "<AxesSubplot:>"
      ]
     },
     "execution_count": 55,
     "metadata": {},
     "output_type": "execute_result"
    },
    {
     "data": {
      "image/png": "[encoded data removed]",
      "text/plain": [
       "<Figure size 432x288 with 1 Axes>"
      ]
     },
     "metadata": {
      "needs_background": "light"
     },
     "output_type": "display_data"
    }
   ],
   "source": [
    "df_analysis[\"Return\"].plot()"
   ]
  },
  {
   "cell_type": "code",
   "execution_count": 59,
   "id": "sporting-reading",
   "metadata": {},
   "outputs": [
    {
     "data": {
      "text/plain": [
       "0.0003788789263032878"
      ]
     },
     "execution_count": 59,
     "metadata": {},
     "output_type": "execute_result"
    }
   ],
   "source": [
    "df_analysis[\"Return\"].mean()"
   ]
  },
  {
   "cell_type": "code",
   "execution_count": 56,
   "id": "alpine-shower",
   "metadata": {},
   "outputs": [
    {
     "data": {
      "text/plain": [
       "<AxesSubplot:>"
      ]
     },
     "execution_count": 56,
     "metadata": {},
     "output_type": "execute_result"
    },
    {
     "data": {
      "image/png": "[encoded data removed]",
      "text/plain": [
       "<Figure size 432x288 with 1 Axes>"
      ]
     },
     "metadata": {
      "needs_background": "light"
     },
     "output_type": "display_data"
    }
   ],
   "source": [
    "df_analysis[\"Close\"].plot()"
   ]
  },
  {
   "cell_type": "code",
   "execution_count": null,
   "id": "tropical-joyce",
   "metadata": {},
   "outputs": [],
   "source": []
  }
 ],
 "metadata": {
  "kernelspec": {
   "display_name": "Python 3",
   "language": "python",
   "name": "python3"
  },
  "language_info": {
   "codemirror_mode": {
    "name": "ipython",
    "version": 3
   },
   "file_extension": ".py",
   "mimetype": "text/x-python",
   "name": "python",
   "nbconvert_exporter": "python",
   "pygments_lexer": "ipython3",
   "version": "3.6.9"
  }
 },
 "nbformat": 4,
 "nbformat_minor": 5
}
